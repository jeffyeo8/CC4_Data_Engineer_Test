{
 "cells": [
  {
   "cell_type": "markdown",
   "metadata": {},
   "source": [
    "```Packages and given datasets```"
   ]
  },
  {
   "cell_type": "code",
   "execution_count": 3,
   "metadata": {},
   "outputs": [],
   "source": [
    "import pandas as pd\n",
    "import json\n",
    "from datetime import datetime"
   ]
  },
  {
   "cell_type": "markdown",
   "metadata": {},
   "source": [
    "***Restaurant Dataset***"
   ]
  },
  {
   "cell_type": "code",
   "execution_count": 7,
   "metadata": {},
   "outputs": [
    {
     "name": "stdout",
     "output_type": "stream",
     "text": [
      "<class 'pandas.core.frame.DataFrame'>\n",
      "RangeIndex: 20 entries, 0 to 19\n",
      "Data columns (total 1 columns):\n",
      " #   Column      Non-Null Count  Dtype \n",
      "---  ------      --------------  ----- \n",
      " 0   restaurant  20 non-null     object\n",
      "dtypes: object(1)\n",
      "memory usage: 292.0+ bytes\n",
      "None\n",
      "                                          restaurant\n",
      "0  {'R': {'res_id': 18649486}, 'apikey': 'cba15be...\n",
      "1  {'R': {'res_id': 308322}, 'apikey': 'cba15beb4...\n",
      "2  {'R': {'res_id': 18856789}, 'apikey': 'cba15be...\n",
      "3  {'R': {'res_id': 307374}, 'apikey': 'cba15beb4...\n",
      "4  {'R': {'res_id': 18238278}, 'apikey': 'cba15be...\n"
     ]
    },
    {
     "data": {
      "text/html": [
       "<div>\n",
       "<style scoped>\n",
       "    .dataframe tbody tr th:only-of-type {\n",
       "        vertical-align: middle;\n",
       "    }\n",
       "\n",
       "    .dataframe tbody tr th {\n",
       "        vertical-align: top;\n",
       "    }\n",
       "\n",
       "    .dataframe thead th {\n",
       "        text-align: right;\n",
       "    }\n",
       "</style>\n",
       "<table border=\"1\" class=\"dataframe\">\n",
       "  <thead>\n",
       "    <tr style=\"text-align: right;\">\n",
       "      <th></th>\n",
       "      <th>restaurant</th>\n",
       "    </tr>\n",
       "  </thead>\n",
       "  <tbody>\n",
       "    <tr>\n",
       "      <th>0</th>\n",
       "      <td>{'R': {'res_id': 18649486}, 'apikey': 'cba15be...</td>\n",
       "    </tr>\n",
       "    <tr>\n",
       "      <th>1</th>\n",
       "      <td>{'R': {'res_id': 308322}, 'apikey': 'cba15beb4...</td>\n",
       "    </tr>\n",
       "    <tr>\n",
       "      <th>2</th>\n",
       "      <td>{'R': {'res_id': 18856789}, 'apikey': 'cba15be...</td>\n",
       "    </tr>\n",
       "    <tr>\n",
       "      <th>3</th>\n",
       "      <td>{'R': {'res_id': 307374}, 'apikey': 'cba15beb4...</td>\n",
       "    </tr>\n",
       "    <tr>\n",
       "      <th>4</th>\n",
       "      <td>{'R': {'res_id': 18238278}, 'apikey': 'cba15be...</td>\n",
       "    </tr>\n",
       "    <tr>\n",
       "      <th>5</th>\n",
       "      <td>{'R': {'res_id': 18268712}, 'apikey': 'cba15be...</td>\n",
       "    </tr>\n",
       "    <tr>\n",
       "      <th>6</th>\n",
       "      <td>{'R': {'res_id': 18198449}, 'apikey': 'cba15be...</td>\n",
       "    </tr>\n",
       "    <tr>\n",
       "      <th>7</th>\n",
       "      <td>{'R': {'res_id': 18382360}, 'apikey': 'cba15be...</td>\n",
       "    </tr>\n",
       "    <tr>\n",
       "      <th>8</th>\n",
       "      <td>{'R': {'res_id': 18273624}, 'apikey': 'cba15be...</td>\n",
       "    </tr>\n",
       "    <tr>\n",
       "      <th>9</th>\n",
       "      <td>{'R': {'res_id': 18466951}, 'apikey': 'cba15be...</td>\n",
       "    </tr>\n",
       "    <tr>\n",
       "      <th>10</th>\n",
       "      <td>{'R': {'res_id': 306046}, 'apikey': 'cba15beb4...</td>\n",
       "    </tr>\n",
       "    <tr>\n",
       "      <th>11</th>\n",
       "      <td>{'R': {'res_id': 18337893}, 'apikey': 'cba15be...</td>\n",
       "    </tr>\n",
       "    <tr>\n",
       "      <th>12</th>\n",
       "      <td>{'R': {'res_id': 18518483}, 'apikey': 'cba15be...</td>\n",
       "    </tr>\n",
       "    <tr>\n",
       "      <th>13</th>\n",
       "      <td>{'R': {'res_id': 18246991}, 'apikey': 'cba15be...</td>\n",
       "    </tr>\n",
       "    <tr>\n",
       "      <th>14</th>\n",
       "      <td>{'R': {'res_id': 8913}, 'apikey': 'cba15beb4c2...</td>\n",
       "    </tr>\n",
       "    <tr>\n",
       "      <th>15</th>\n",
       "      <td>{'R': {'res_id': 313256}, 'apikey': 'cba15beb4...</td>\n",
       "    </tr>\n",
       "    <tr>\n",
       "      <th>16</th>\n",
       "      <td>{'R': {'res_id': 18562836}, 'apikey': 'cba15be...</td>\n",
       "    </tr>\n",
       "    <tr>\n",
       "      <th>17</th>\n",
       "      <td>{'R': {'res_id': 17953943}, 'apikey': 'cba15be...</td>\n",
       "    </tr>\n",
       "    <tr>\n",
       "      <th>18</th>\n",
       "      <td>{'R': {'res_id': 18258498}, 'apikey': 'cba15be...</td>\n",
       "    </tr>\n",
       "    <tr>\n",
       "      <th>19</th>\n",
       "      <td>{'R': {'res_id': 18537536}, 'apikey': 'cba15be...</td>\n",
       "    </tr>\n",
       "  </tbody>\n",
       "</table>\n",
       "</div>"
      ],
      "text/plain": [
       "                                           restaurant\n",
       "0   {'R': {'res_id': 18649486}, 'apikey': 'cba15be...\n",
       "1   {'R': {'res_id': 308322}, 'apikey': 'cba15beb4...\n",
       "2   {'R': {'res_id': 18856789}, 'apikey': 'cba15be...\n",
       "3   {'R': {'res_id': 307374}, 'apikey': 'cba15beb4...\n",
       "4   {'R': {'res_id': 18238278}, 'apikey': 'cba15be...\n",
       "5   {'R': {'res_id': 18268712}, 'apikey': 'cba15be...\n",
       "6   {'R': {'res_id': 18198449}, 'apikey': 'cba15be...\n",
       "7   {'R': {'res_id': 18382360}, 'apikey': 'cba15be...\n",
       "8   {'R': {'res_id': 18273624}, 'apikey': 'cba15be...\n",
       "9   {'R': {'res_id': 18466951}, 'apikey': 'cba15be...\n",
       "10  {'R': {'res_id': 306046}, 'apikey': 'cba15beb4...\n",
       "11  {'R': {'res_id': 18337893}, 'apikey': 'cba15be...\n",
       "12  {'R': {'res_id': 18518483}, 'apikey': 'cba15be...\n",
       "13  {'R': {'res_id': 18246991}, 'apikey': 'cba15be...\n",
       "14  {'R': {'res_id': 8913}, 'apikey': 'cba15beb4c2...\n",
       "15  {'R': {'res_id': 313256}, 'apikey': 'cba15beb4...\n",
       "16  {'R': {'res_id': 18562836}, 'apikey': 'cba15be...\n",
       "17  {'R': {'res_id': 17953943}, 'apikey': 'cba15be...\n",
       "18  {'R': {'res_id': 18258498}, 'apikey': 'cba15be...\n",
       "19  {'R': {'res_id': 18537536}, 'apikey': 'cba15be..."
      ]
     },
     "execution_count": 7,
     "metadata": {},
     "output_type": "execute_result"
    }
   ],
   "source": [
    "# Open file and convert to dataframe (df)\n",
    "with open('restaurant_data.json', encoding=\"utf8\") as rest_file:\n",
    "    rest_data = json.load(rest_file)\n",
    "\n",
    "rest_df = pd.DataFrame(rest_data)\n",
    "\n",
    "print(rest_df.info())\n",
    "\n",
    "# Check first few rows of df\n",
    "print(rest_df.head(5))"
   ]
  },
  {
   "cell_type": "markdown",
   "metadata": {},
   "source": [
    "***Country-Code Dataset***"
   ]
  },
  {
   "cell_type": "code",
   "execution_count": 305,
   "metadata": {},
   "outputs": [
    {
     "name": "stdout",
     "output_type": "stream",
     "text": [
      "<class 'pandas.core.frame.DataFrame'>\n",
      "RangeIndex: 15 entries, 0 to 14\n",
      "Data columns (total 2 columns):\n",
      " #   Column        Non-Null Count  Dtype \n",
      "---  ------        --------------  ----- \n",
      " 0   Country Code  15 non-null     int64 \n",
      " 1   Country       15 non-null     object\n",
      "dtypes: int64(1), object(1)\n",
      "memory usage: 372.0+ bytes\n",
      "None\n",
      "   Country Code       Country\n",
      "0             1         India\n",
      "1            14     Australia\n",
      "2            30        Brazil\n",
      "3            37        Canada\n",
      "4            94     Indonesia\n",
      "5           148   New Zealand\n",
      "6           162   Phillipines\n",
      "7           166         Qatar\n",
      "8           184     Singapore\n",
      "9           189  South Africa\n"
     ]
    }
   ],
   "source": [
    "country_df = pd.read_excel(\"Country-code.xlsx\")\n",
    "print(country_df.info())\n",
    "print(country_df.head(10))"
   ]
  },
  {
   "cell_type": "markdown",
   "metadata": {},
   "source": [
    "***Checking all features of a restaurant***"
   ]
  },
  {
   "cell_type": "code",
   "execution_count": 306,
   "metadata": {},
   "outputs": [
    {
     "name": "stdout",
     "output_type": "stream",
     "text": [
      "Common Keys:\n",
      "{'city_id', 'longitude', 'events_url', 'location', 'zipcode', 'country_id', 'include_bogo_offers', 'name', 'res_id', 'locality', 'deeplink', 'offers', 'average_cost_for_two', 'user_rating', 'has_table_booking', 'is_table_reservation_supported', 'photos_url', 'url', 'menu_url', 'switch_to_order_menu', 'apikey', 'city', 'cuisines', 'price_range', 'currency', 'establishment_types', 'votes', 'has_fake_reviews', 'restaurant', 'is_delivering_now', 'rating_color', 'address', 'latitude', 'thumb', 'featured_image', 'aggregate_rating', 'R', 'locality_verbose', 'rating_text', 'has_online_delivery', 'id'}\n",
      "\n",
      "Additional Keys:\n",
      "{'mezzo_provider', 'share_url', 'voucher_id', 'should_show', 'start_date', 'display_date', 'rating_tool_tip', 'zomato_events', 'impressions', 'type', 'is_zomato_book_res', 'is_zomato_event', 'type_code', 'book_link', 'restaurants', 'friendly_end_date', 'is_valid', 'description', 'restaurant_list', 'offer', 'book_again_url', 'is_end_time_set', 'display_time', 'uuid', 'event', 'event_category', 'medio_provider', 'start_time', 'status', 'photo', 'md5sum', 'event_id', 'book_url', 'text', 'order_url', 'is_active', 'opentable_support', 'types', 'order_deeplink', 'offer_type', 'show_share_url', 'date_added', 'is_editable', 'offer_id', 'thumb_url', 'friendly_start_date', 'friendly_timing_str', 'is_book_form_web_view', 'title', 'photo_id', 'custom_rating_text_background', 'order', 'applicable_on', 'event_category_name', 'added_by', 'color', 'book_form_web_view_url', 'custom_rating_text', 'photos', 'link', 'share_data', 'end_date', 'disclaimer', 'end_time', 'offer_text'}\n"
     ]
    }
   ],
   "source": [
    "# Function to retrieve all keys from each restaurant\n",
    "def get_all_keys(dic):\n",
    "    keys = set(dic.keys())\n",
    "    for value in dic.values():\n",
    "        if isinstance(value, dict):\n",
    "            keys.update(get_all_keys(value))\n",
    "        elif isinstance(value, list):\n",
    "            for item in value:\n",
    "                if isinstance(item, dict):\n",
    "                    keys.update(get_all_keys(item))\n",
    "    return keys\n",
    "\n",
    "common_keys = set()\n",
    "add_keys = set()\n",
    "\n",
    "# Check which keys are common for each restaurant and which are additional keys\n",
    "for rest_list in rest_df[\"restaurants\"]:\n",
    "    for rest in rest_list:\n",
    "        rest_keys = set(get_all_keys(rest))\n",
    "\n",
    "        if not common_keys:\n",
    "            common_keys = rest_keys\n",
    "        else:\n",
    "            common_keys = common_keys.intersection(rest_keys)\n",
    "\n",
    "        add_keys = add_keys.union(rest_keys)\n",
    "\n",
    "add_keys -= common_keys\n",
    "\n",
    "print(\"Common Keys:\")\n",
    "print(common_keys)\n",
    "print(\"\\nAdditional Keys:\")\n",
    "print(add_keys)"
   ]
  },
  {
   "cell_type": "markdown",
   "metadata": {},
   "source": [
    "**Q1.** Extract the following fields and store the data as restaurants.csv. <br>\n",
    "◦   \tRestaurant Id<br>\n",
    "◦   \tRestaurant Name<br>\n",
    "◦   \tCountry<br>\n",
    "◦   \tCity<br>\n",
    "◦   \tUser Rating Votes<br>\n",
    "◦   \tUser Aggregate Rating (in float)<br>\n",
    "◦   \tCuisines<br>\n"
   ]
  },
  {
   "cell_type": "code",
   "execution_count": 307,
   "metadata": {},
   "outputs": [
    {
     "name": "stdout",
     "output_type": "stream",
     "text": [
      "Number of Restaurants per row: 20\n",
      "Restaurant example: ['R', 'apikey', 'id', 'name', 'url', 'location', 'switch_to_order_menu', 'cuisines', 'average_cost_for_two', 'price_range', 'currency', 'offers', 'opentable_support', 'is_zomato_book_res', 'mezzo_provider', 'is_book_form_web_view', 'book_form_web_view_url', 'book_again_url', 'thumb', 'user_rating', 'photos_url', 'menu_url', 'featured_image', 'has_online_delivery', 'is_delivering_now', 'has_fake_reviews', 'include_bogo_offers', 'deeplink', 'is_table_reservation_supported', 'has_table_booking', 'events_url', 'establishment_types']\n"
     ]
    }
   ],
   "source": [
    "print(f\"Number of Restaurants per row: {len((rest_df.iloc[0]['restaurants']))}\")\n",
    "print(f\"Restaurant example: {list(rest_df['restaurants'][1][0]['restaurant'].keys())}\")\n",
    "\n",
    "result = []\n",
    "for rest_list in rest_df[\"restaurants\"]:\n",
    "    for rest in rest_list:\n",
    "        curr = rest['restaurant']\n",
    "        rest_id = curr['id']\n",
    "        name = curr[\"name\"]\n",
    "        country_id =  curr[\"location\"][\"country_id\"]\n",
    "        city = curr[\"location\"][\"city\"]\n",
    "        rating_votes = curr[\"user_rating\"][\"votes\"]\n",
    "        agg_user_rating = curr[\"user_rating\"][\"aggregate_rating\"]\n",
    "        cuisines = curr[\"cuisines\"]\n",
    "        temp = [rest_id, name, country_id, city, rating_votes, agg_user_rating, cuisines]\n",
    "        result.append(temp)\n",
    "\n",
    "result = pd.DataFrame(result, columns= ['Restaurant Id', \"Restaurant Name\", \"Country_id\", \n",
    "                                        \"City\", \"User Rating Votes\",\n",
    "                                        \"User Aggregate Rating\", \"Cuisines\"])\n",
    "\n"
   ]
  },
  {
   "cell_type": "code",
   "execution_count": 308,
   "metadata": {},
   "outputs": [],
   "source": [
    "# Merge restaurant_df to country_df using country code/id as the joining keys to obtain country name.\n",
    "result_df = pd.merge(result, country_df, how='left', left_on=\"Country_id\", right_on=\"Country Code\")\n",
    "result_df = result_df.drop(columns=[\"Country_id\", \"Country Code\"])\n",
    "result_df = result_df[['Restaurant Id', \"Restaurant Name\", \"Country\", \n",
    "                                        \"City\", \"User Rating Votes\",\n",
    "                                        \"User Aggregate Rating\", \"Cuisines\"]]\n",
    "\n",
    "result_df.to_csv(\"restaurants.csv\", index=False)   "
   ]
  },
  {
   "cell_type": "markdown",
   "metadata": {},
   "source": [
    "**Q2.** \tExtract the list of restaurants that have past event in the month of April 2019 and store the data as restaurant_events.csv. <br>\n",
    "◦   \tEvent Id <br>\n",
    "◦   \tRestaurant Id <br>\n",
    "◦   \tRestaurant Name <br>\n",
    "◦   \tPhoto URL <br>\n",
    "◦   \tEvent Title <br>\n",
    "◦   \tEvent Start Date <br>\n",
    "◦   \tEvent End Date <br>\n",
    "Note: Populate empty values with \"NA\". <br>\n"
   ]
  },
  {
   "cell_type": "code",
   "execution_count": 309,
   "metadata": {},
   "outputs": [],
   "source": [
    "result_2 = []\n",
    "\n",
    "april_start_date = datetime(2019, 4, 1)\n",
    "april_end_date = datetime(2019, 4, 30)\n",
    "\n",
    "for rest_list in rest_df[\"restaurants\"]:\n",
    "    for rest in rest_list:\n",
    "        curr = rest['restaurant']\n",
    "        rest_id = curr['id']\n",
    "        name = curr[\"name\"]\n",
    "        photo_url = curr[\"photos_url\"]\n",
    "\n",
    "        events = curr.get(\"zomato_events\", False)\n",
    "        if events:\n",
    "            for event in events:\n",
    "                event_det = event[\"event\"]\n",
    "                event_id = event_det[\"event_id\"]\n",
    "                event_title = event_det[\"title\"]\n",
    "                event_start_date = event_det[\"start_date\"]\n",
    "                event_end_date = event_det[\"end_date\"]\n",
    "\n",
    "                # convert start date and end date to datetime format\n",
    "                event_start_date_dt = datetime.strptime(event_start_date, \"%Y-%m-%d\")\n",
    "                event_end_date_dt = datetime.strptime(event_end_date, \"%Y-%m-%d\")\n",
    "                \n",
    "                # filter by ensuring April 2019 falls between start date and end date \n",
    "                if (event_start_date_dt <= april_end_date) and (april_start_date <= event_end_date_dt):\n",
    "                    temp = [event_id, rest_id, name, photo_url, event_title, event_start_date, event_end_date]\n",
    "                    result_2.append(temp)\n",
    "\n",
    "rest_event_df = pd.DataFrame(result_2, columns= [\"Event id\", 'Restaurant Id', \"Restaurant Name\", \"Photo URL\", \n",
    "                                        \"Event Title\", \"Event Start Date\",\n",
    "                                        \"Event End Date\"])\n",
    "\n",
    "rest_event_df.to_csv(\"restaurant_events.csv\", index = False)"
   ]
  },
  {
   "cell_type": "markdown",
   "metadata": {},
   "source": [
    "**Q3.** \tFrom the dataset (restaurant_data.json), determine the threshold for the different rating text based on aggregate rating. Return aggregates for the following ratings only: <br>\n",
    "◦   \tExcellent <br>\n",
    "◦   \tVery Good <br>\n",
    "◦   \tGood <br>\n",
    "◦   \tAverage <br>\n",
    "◦   \tPoor <br>\n"
   ]
  },
  {
   "cell_type": "code",
   "execution_count": 310,
   "metadata": {},
   "outputs": [
    {
     "name": "stdout",
     "output_type": "stream",
     "text": [
      "The 'Excellent' rating has a minimum and maximum rating threshold of [4.5, 4.9] respectively\n",
      "The 'Very Good' rating has a minimum and maximum rating threshold of [4.0, 4.4] respectively\n",
      "The 'Good' rating has a minimum and maximum rating threshold of [3.5, 3.9] respectively\n",
      "The 'Average' rating has a minimum and maximum rating threshold of [2.5, 3.4] respectively\n",
      "The 'Poor' rating has a minimum and maximum rating threshold of [2.2, 2.2] respectively\n"
     ]
    }
   ],
   "source": [
    "rating = {}\n",
    "selected_rate = [\"Excellent\", \"Very Good\", \"Good\", 'Average', \"Poor\"]\n",
    "\n",
    "for rest_list in rest_df[\"restaurants\"]:\n",
    "    for rest in rest_list:\n",
    "        user_rating = rest['restaurant'][\"user_rating\"]\n",
    "        aggre_rating = float(user_rating['aggregate_rating'])\n",
    "        rate_text = user_rating[\"rating_text\"]\n",
    "\n",
    "        if rate_text in rating:\n",
    "            rating[rate_text] = [min(aggre_rating, rating[rate_text][0]), max(aggre_rating, rating[rate_text][1])]\n",
    "        else:\n",
    "            rating[rate_text] = [aggre_rating, aggre_rating]\n",
    "\n",
    "rating = list(rating.items())\n",
    "\n",
    "filtered_rating = list(filter(lambda x: x[0] in selected_rate, rating))\n",
    "sorted_rating = sorted(filtered_rating, key = lambda x: x[1][1], reverse=True)\n",
    "\n",
    "for word, spread in sorted_rating:\n",
    "    print(f\"The '{word}' rating has a minimum and maximum rating threshold of {spread} respectively\")\n"
   ]
  },
  {
   "cell_type": "markdown",
   "metadata": {},
   "source": [
    "Based on the given data, <br>\n",
    "The 'Excellent' rating has a minimum and maximum rating threshold of [4.5, 4.9] respectively. <br>\n",
    "The 'Very Good' rating has a minimum and maximum rating threshold of [4.0, 4.4] respectively. <br>\n",
    "The 'Good' rating has a minimum and maximum rating threshold of [3.5, 3.9] respectively. <br>\n",
    "The 'Average' rating has a minimum and maximum rating threshold of [2.5, 3.4] respectively. <br>\n",
    "The 'Poor' rating has a minimum and maximum rating threshold of [2.2, 2.2] respectively. <br>\n",
    "\n",
    "However, based on the rating threshold patterns, we can assume that the \"Poor\" rating has a maximum threshold of 2.4"
   ]
  },
  {
   "cell_type": "markdown",
   "metadata": {},
   "source": [
    "```Simple Test```"
   ]
  },
  {
   "cell_type": "code",
   "execution_count": 311,
   "metadata": {},
   "outputs": [
    {
     "name": "stdout",
     "output_type": "stream",
     "text": [
      "All restaurant data successfully transferred\n"
     ]
    }
   ],
   "source": [
    "### Check if the restaurant data from restaurant.json file tallies with the restaurant.csv file\n",
    "with open('restaurant_data.json', 'r', encoding = \"utf8\") as json_file:\n",
    "    original_data = pd.read_json(json_file)\n",
    "    \n",
    "csv_data = pd.read_csv('restaurants.csv')\n",
    "\n",
    "if len(csv_data) == sum(original_data.results_shown):\n",
    "    print(\"All restaurant data successfully transferred\")\n",
    "else:\n",
    "    print(\"Oh no. Restaurant counts do not tally\")"
   ]
  }
 ],
 "metadata": {
  "kernelspec": {
   "display_name": "Python 3",
   "language": "python",
   "name": "python3"
  },
  "language_info": {
   "codemirror_mode": {
    "name": "ipython",
    "version": 3
   },
   "file_extension": ".py",
   "mimetype": "text/x-python",
   "name": "python",
   "nbconvert_exporter": "python",
   "pygments_lexer": "ipython3",
   "version": "3.11.2"
  }
 },
 "nbformat": 4,
 "nbformat_minor": 2
}
