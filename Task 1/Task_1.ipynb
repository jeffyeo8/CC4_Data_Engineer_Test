{
 "cells": [
  {
   "cell_type": "markdown",
   "metadata": {},
   "source": [
    "***Packages and given datasets***"
   ]
  },
  {
   "cell_type": "code",
   "execution_count": 8,
   "metadata": {},
   "outputs": [],
   "source": [
    "import pandas as pd\n",
    "import openpyxl"
   ]
  },
  {
   "cell_type": "code",
   "execution_count": 14,
   "metadata": {},
   "outputs": [
    {
     "name": "stdout",
     "output_type": "stream",
     "text": [
      "<class 'pandas.core.frame.DataFrame'>\n",
      "RangeIndex: 15 entries, 0 to 14\n",
      "Data columns (total 2 columns):\n",
      " #   Column        Non-Null Count  Dtype \n",
      "---  ------        --------------  ----- \n",
      " 0   Country Code  15 non-null     int64 \n",
      " 1   Country       15 non-null     object\n",
      "dtypes: int64(1), object(1)\n",
      "memory usage: 372.0+ bytes\n",
      "None\n"
     ]
    }
   ],
   "source": [
    "country_df = pd.read_excel(\"Country-code.xlsx\")"
   ]
  },
  {
   "cell_type": "markdown",
   "metadata": {},
   "source": [
    "***Brief Summary of Dataset***"
   ]
  },
  {
   "cell_type": "code",
   "execution_count": 19,
   "metadata": {},
   "outputs": [
    {
     "name": "stdout",
     "output_type": "stream",
     "text": [
      "<class 'pandas.core.frame.DataFrame'>\n",
      "RangeIndex: 15 entries, 0 to 14\n",
      "Data columns (total 2 columns):\n",
      " #   Column        Non-Null Count  Dtype \n",
      "---  ------        --------------  ----- \n",
      " 0   Country Code  15 non-null     int64 \n",
      " 1   Country       15 non-null     object\n",
      "dtypes: int64(1), object(1)\n",
      "memory usage: 372.0+ bytes\n",
      "None\n",
      "\n",
      "   Country Code       Country\n",
      "0             1         India\n",
      "1            14     Australia\n",
      "2            30        Brazil\n",
      "3            37        Canada\n",
      "4            94     Indonesia\n",
      "5           148   New Zealand\n",
      "6           162   Phillipines\n",
      "7           166         Qatar\n",
      "8           184     Singapore\n",
      "9           189  South Africa\n"
     ]
    }
   ],
   "source": [
    "print(country_df.info())\n",
    "print()\n",
    "print(country_df.head(10))"
   ]
  },
  {
   "cell_type": "markdown",
   "metadata": {},
   "source": [
    "1. Extract the following fields and store the data as restaurants.csv. <br>\n",
    "◦   \tRestaurant Id<br>\n",
    "◦   \tRestaurant Name<br>\n",
    "◦   \tCountry<br>\n",
    "◦   \tCity<br>\n",
    "◦   \tUser Rating Votes<br>\n",
    "◦   \tUser Aggregate Rating (in float)<br>\n",
    "◦   \tCuisines<br>\n"
   ]
  },
  {
   "cell_type": "code",
   "execution_count": null,
   "metadata": {},
   "outputs": [],
   "source": []
  },
  {
   "cell_type": "markdown",
   "metadata": {},
   "source": [
    "2. \tExtract the list of restaurants that have past event in the month of April 2019 and store the data as restaurant_events.csv. <br>\n",
    "◦   \tEvent Id <br>\n",
    "◦   \tRestaurant Id <br>\n",
    "◦   \tRestaurant Name <br>\n",
    "◦   \tPhoto URL <br>\n",
    "◦   \tEvent Title <br>\n",
    "◦   \tEvent Start Date <br>\n",
    "◦   \tEvent End Date <br>\n",
    "Note: Populate empty values with \"NA\". <br>\n"
   ]
  },
  {
   "cell_type": "code",
   "execution_count": null,
   "metadata": {},
   "outputs": [],
   "source": []
  },
  {
   "cell_type": "markdown",
   "metadata": {},
   "source": [
    "3. \tFrom the dataset (restaurant_data.json), determine the threshold for the different rating text based on aggregate rating. Return aggregates for the following ratings only: <br>\n",
    "◦   \tExcellent <br>\n",
    "◦   \tVery Good <br>\n",
    "◦   \tGood <br>\n",
    "◦   \tAverage <br>\n",
    "◦   \tPoor <br>\n"
   ]
  },
  {
   "cell_type": "code",
   "execution_count": null,
   "metadata": {},
   "outputs": [],
   "source": []
  }
 ],
 "metadata": {
  "kernelspec": {
   "display_name": "Python 3",
   "language": "python",
   "name": "python3"
  },
  "language_info": {
   "codemirror_mode": {
    "name": "ipython",
    "version": 3
   },
   "file_extension": ".py",
   "mimetype": "text/x-python",
   "name": "python",
   "nbconvert_exporter": "python",
   "pygments_lexer": "ipython3",
   "version": "3.11.2"
  }
 },
 "nbformat": 4,
 "nbformat_minor": 2
}
