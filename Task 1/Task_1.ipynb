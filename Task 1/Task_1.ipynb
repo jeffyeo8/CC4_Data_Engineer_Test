{
 "cells": [
  {
   "cell_type": "markdown",
   "metadata": {},
   "source": [
    "**Packages and given datasets**"
   ]
  },
  {
   "cell_type": "code",
   "execution_count": 1,
   "metadata": {},
   "outputs": [],
   "source": [
    "import pandas as pd\n",
    "import openpyxl\n",
    "import json"
   ]
  },
  {
   "cell_type": "markdown",
   "metadata": {},
   "source": [
    "***Restaurant Dataset***"
   ]
  },
  {
   "cell_type": "code",
   "execution_count": 2,
   "metadata": {},
   "outputs": [
    {
     "name": "stdout",
     "output_type": "stream",
     "text": [
      "   results_found  results_start  results_shown  \\\n",
      "0          29287              1             20   \n",
      "1           7625              1             20   \n",
      "2          21776              1             20   \n",
      "3          16762              1             20   \n",
      "4          12026              1             20   \n",
      "\n",
      "                                         restaurants  \n",
      "0  [{'restaurant': {'R': {'res_id': 18649486}, 'a...  \n",
      "1  [{'restaurant': {'R': {'res_id': 18707652}, 'a...  \n",
      "2  [{'restaurant': {'R': {'res_id': 18392725}, 'a...  \n",
      "3  [{'restaurant': {'R': {'res_id': 58882}, 'apik...  \n",
      "4  [{'restaurant': {'R': {'res_id': 18893197}, 'a...  \n"
     ]
    }
   ],
   "source": [
    "# Open file and convert to dataframe (df)\n",
    "with open('restaurant_data.json', encoding=\"utf8\") as rest_file:\n",
    "    rest_data = json.load(rest_file)\n",
    "\n",
    "rest_df = pd.DataFrame(rest_data)\n",
    "\n",
    "# Check first few rows of df\n",
    "print(rest_df.head(5))"
   ]
  },
  {
   "cell_type": "markdown",
   "metadata": {},
   "source": [
    "***Country-Code Dataset***"
   ]
  },
  {
   "cell_type": "code",
   "execution_count": 3,
   "metadata": {},
   "outputs": [
    {
     "name": "stdout",
     "output_type": "stream",
     "text": [
      "<class 'pandas.core.frame.DataFrame'>\n",
      "RangeIndex: 15 entries, 0 to 14\n",
      "Data columns (total 2 columns):\n",
      " #   Column        Non-Null Count  Dtype \n",
      "---  ------        --------------  ----- \n",
      " 0   Country Code  15 non-null     int64 \n",
      " 1   Country       15 non-null     object\n",
      "dtypes: int64(1), object(1)\n",
      "memory usage: 372.0+ bytes\n",
      "None\n",
      "   Country Code       Country\n",
      "0             1         India\n",
      "1            14     Australia\n",
      "2            30        Brazil\n",
      "3            37        Canada\n",
      "4            94     Indonesia\n",
      "5           148   New Zealand\n",
      "6           162   Phillipines\n",
      "7           166         Qatar\n",
      "8           184     Singapore\n",
      "9           189  South Africa\n"
     ]
    }
   ],
   "source": [
    "country_df = pd.read_excel(\"Country-code.xlsx\")\n",
    "print(country_df.info())\n",
    "print(country_df.head(10))"
   ]
  },
  {
   "cell_type": "markdown",
   "metadata": {},
   "source": [
    "1. Extract the following fields and store the data as restaurants.csv. <br>\n",
    "◦   \tRestaurant Id<br>\n",
    "◦   \tRestaurant Name<br>\n",
    "◦   \tCountry<br>\n",
    "◦   \tCity<br>\n",
    "◦   \tUser Rating Votes<br>\n",
    "◦   \tUser Aggregate Rating (in float)<br>\n",
    "◦   \tCuisines<br>\n"
   ]
  },
  {
   "cell_type": "code",
   "execution_count": 4,
   "metadata": {},
   "outputs": [
    {
     "name": "stdout",
     "output_type": "stream",
     "text": [
      "Number of Restaurants per row: 20\n",
      "Restaurant features: ['R', 'apikey', 'id', 'name', 'url', 'location', 'switch_to_order_menu', 'cuisines', 'average_cost_for_two', 'price_range', 'currency', 'offers', 'opentable_support', 'is_zomato_book_res', 'mezzo_provider', 'is_book_form_web_view', 'book_form_web_view_url', 'book_again_url', 'thumb', 'user_rating', 'photos_url', 'menu_url', 'featured_image', 'has_online_delivery', 'is_delivering_now', 'has_fake_reviews', 'include_bogo_offers', 'deeplink', 'is_table_reservation_supported', 'has_table_booking', 'events_url', 'establishment_types']\n"
     ]
    }
   ],
   "source": [
    "print(f\"Number of Restaurants per row: {len((rest_df.iloc[0]['restaurants']))}\")\n",
    "print(f\"Restaurant features: {list(rest_df['restaurants'][1][0]['restaurant'].keys())}\")\n",
    "\n",
    "result = []\n",
    "for rest_list in rest_df[\"restaurants\"]:\n",
    "    for rest in rest_list:\n",
    "        curr = rest['restaurant']\n",
    "        id = curr['id']\n",
    "        name = curr[\"name\"]\n",
    "        country_id =  curr[\"location\"][\"country_id\"]\n",
    "        city = curr[\"location\"][\"city\"]\n",
    "        rating_votes = curr[\"user_rating\"][\"votes\"]\n",
    "        agg_user_rating = curr[\"user_rating\"][\"aggregate_rating\"]\n",
    "        cuisines = curr[\"cuisines\"]\n",
    "        temp = [id, name, country_id, city, rating_votes, agg_user_rating, cuisines]\n",
    "        result.append(temp)\n",
    "\n",
    "result = pd.DataFrame(result, columns= ['Restaurant Id', \"Restaurant Name\", \"Country_id\", \n",
    "                                        \"City\", \"User Rating Votes\",\n",
    "                                        \"User Aggregate Rating\", \"Cuisines\"])\n",
    "\n",
    "result_df = pd.merge(result, country_df, left_on=\"Country_id\", right_on=\"Country Code\")\n",
    "result_df = result_df.drop(columns=[\"Country_id\", \"Country Code\"])\n",
    "result_df = result_df[['Restaurant Id', \"Restaurant Name\", \"Country\", \n",
    "                                        \"City\", \"User Rating Votes\",\n",
    "                                        \"User Aggregate Rating\", \"Cuisines\"]]\n",
    "result_df.to_csv(\"restaurants.csv\", index=False)      "
   ]
  },
  {
   "cell_type": "code",
   "execution_count": null,
   "metadata": {},
   "outputs": [],
   "source": []
  },
  {
   "cell_type": "markdown",
   "metadata": {},
   "source": [
    "2. \tExtract the list of restaurants that have past event in the month of April 2019 and store the data as restaurant_events.csv. <br>\n",
    "◦   \tEvent Id <br>\n",
    "◦   \tRestaurant Id <br>\n",
    "◦   \tRestaurant Name <br>\n",
    "◦   \tPhoto URL <br>\n",
    "◦   \tEvent Title <br>\n",
    "◦   \tEvent Start Date <br>\n",
    "◦   \tEvent End Date <br>\n",
    "Note: Populate empty values with \"NA\". <br>\n"
   ]
  },
  {
   "cell_type": "code",
   "execution_count": null,
   "metadata": {},
   "outputs": [],
   "source": []
  },
  {
   "cell_type": "markdown",
   "metadata": {},
   "source": [
    "3. \tFrom the dataset (restaurant_data.json), determine the threshold for the different rating text based on aggregate rating. Return aggregates for the following ratings only: <br>\n",
    "◦   \tExcellent <br>\n",
    "◦   \tVery Good <br>\n",
    "◦   \tGood <br>\n",
    "◦   \tAverage <br>\n",
    "◦   \tPoor <br>\n"
   ]
  },
  {
   "cell_type": "code",
   "execution_count": null,
   "metadata": {},
   "outputs": [],
   "source": []
  }
 ],
 "metadata": {
  "kernelspec": {
   "display_name": "Python 3",
   "language": "python",
   "name": "python3"
  },
  "language_info": {
   "codemirror_mode": {
    "name": "ipython",
    "version": 3
   },
   "file_extension": ".py",
   "mimetype": "text/x-python",
   "name": "python",
   "nbconvert_exporter": "python",
   "pygments_lexer": "ipython3",
   "version": "3.11.2"
  }
 },
 "nbformat": 4,
 "nbformat_minor": 2
}
