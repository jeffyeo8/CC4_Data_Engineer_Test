{
 "cells": [
  {
   "cell_type": "markdown",
   "metadata": {},
   "source": [
    "```Packages and given datasets```"
   ]
  },
  {
   "cell_type": "code",
   "execution_count": 55,
   "metadata": {},
   "outputs": [],
   "source": [
    "import pandas as pd\n",
    "import json\n",
    "from datetime import datetime"
   ]
  },
  {
   "cell_type": "markdown",
   "metadata": {},
   "source": [
    "***Restaurant Dataset***"
   ]
  },
  {
   "cell_type": "code",
   "execution_count": 56,
   "metadata": {},
   "outputs": [
    {
     "name": "stdout",
     "output_type": "stream",
     "text": [
      "<class 'pandas.core.frame.DataFrame'>\n",
      "RangeIndex: 79 entries, 0 to 78\n",
      "Data columns (total 4 columns):\n",
      " #   Column         Non-Null Count  Dtype \n",
      "---  ------         --------------  ----- \n",
      " 0   results_found  79 non-null     int64 \n",
      " 1   results_start  79 non-null     int64 \n",
      " 2   results_shown  79 non-null     int64 \n",
      " 3   restaurants    79 non-null     object\n",
      "dtypes: int64(3), object(1)\n",
      "memory usage: 2.6+ KB\n",
      "None\n",
      "   results_found  results_start  results_shown  \\\n",
      "0          29287              1             20   \n",
      "1           7625              1             20   \n",
      "2          21776              1             20   \n",
      "3          16762              1             20   \n",
      "4          12026              1             20   \n",
      "\n",
      "                                         restaurants  \n",
      "0  [{'restaurant': {'R': {'res_id': 18649486}, 'a...  \n",
      "1  [{'restaurant': {'R': {'res_id': 18707652}, 'a...  \n",
      "2  [{'restaurant': {'R': {'res_id': 18392725}, 'a...  \n",
      "3  [{'restaurant': {'R': {'res_id': 58882}, 'apik...  \n",
      "4  [{'restaurant': {'R': {'res_id': 18893197}, 'a...  \n"
     ]
    }
   ],
   "source": [
    "# Open file and convert to dataframe (df)\n",
    "\n",
    "mypath = \"./Given_Datasets/\"\n",
    "file_name = \"restaurant_data.json\"\n",
    "rest_path = mypath + file_name\n",
    "\n",
    "with open(rest_path, encoding=\"utf8\") as rest_file:\n",
    "    rest_df = pd.read_json(rest_file)\n",
    "\n",
    "print(rest_df.info())\n",
    "\n",
    "# Check first few rows of df\n",
    "print(rest_df.head(5))"
   ]
  },
  {
   "cell_type": "markdown",
   "metadata": {},
   "source": [
    "***Country-Code Dataset***"
   ]
  },
  {
   "cell_type": "code",
   "execution_count": 57,
   "metadata": {},
   "outputs": [
    {
     "name": "stdout",
     "output_type": "stream",
     "text": [
      "<class 'pandas.core.frame.DataFrame'>\n",
      "RangeIndex: 15 entries, 0 to 14\n",
      "Data columns (total 2 columns):\n",
      " #   Column        Non-Null Count  Dtype \n",
      "---  ------        --------------  ----- \n",
      " 0   Country Code  15 non-null     int64 \n",
      " 1   Country       15 non-null     object\n",
      "dtypes: int64(1), object(1)\n",
      "memory usage: 372.0+ bytes\n",
      "None\n",
      "   Country Code       Country\n",
      "0             1         India\n",
      "1            14     Australia\n",
      "2            30        Brazil\n",
      "3            37        Canada\n",
      "4            94     Indonesia\n",
      "5           148   New Zealand\n",
      "6           162   Phillipines\n",
      "7           166         Qatar\n",
      "8           184     Singapore\n",
      "9           189  South Africa\n"
     ]
    }
   ],
   "source": [
    "mypath = \"./Given_Datasets/\"\n",
    "file_name = \"Country-code.xlsx\"\n",
    "CC_path = mypath + file_name\n",
    "\n",
    "country_df = pd.read_excel(CC_path)\n",
    "print(country_df.info())\n",
    "print(country_df.head(10))"
   ]
  },
  {
   "cell_type": "markdown",
   "metadata": {},
   "source": [
    "***Checking all features of a restaurant***"
   ]
  },
  {
   "cell_type": "code",
   "execution_count": 58,
   "metadata": {},
   "outputs": [
    {
     "name": "stdout",
     "output_type": "stream",
     "text": [
      "Common Keys:\n",
      "{'average_cost_for_two', 'rating_color', 'establishment_types', 'aggregate_rating', 'featured_image', 'photos_url', 'has_online_delivery', 'locality', 'cuisines', 'city_id', 'is_delivering_now', 'switch_to_order_menu', 'locality_verbose', 'id', 'user_rating', 'currency', 'url', 'menu_url', 'thumb', 'apikey', 'restaurant', 'deeplink', 'name', 'price_range', 'res_id', 'offers', 'latitude', 'events_url', 'zipcode', 'has_fake_reviews', 'include_bogo_offers', 'address', 'city', 'longitude', 'is_table_reservation_supported', 'rating_text', 'has_table_booking', 'R', 'location', 'country_id', 'votes'}\n",
      "\n",
      "Additional Keys:\n",
      "{'photos', 'custom_rating_text', 'photo_id', 'is_editable', 'uuid', 'status', 'event_id', 'text', 'title', 'type', 'offer_id', 'restaurants', 'book_url', 'medio_provider', 'added_by', 'color', 'order_deeplink', 'start_date', 'description', 'event_category', 'order', 'impressions', 'offer_type', 'zomato_events', 'thumb_url', 'md5sum', 'type_code', 'photo', 'is_end_time_set', 'date_added', 'types', 'show_share_url', 'is_zomato_book_res', 'rating_tool_tip', 'event_category_name', 'book_form_web_view_url', 'display_date', 'is_zomato_event', 'link', 'friendly_end_date', 'friendly_start_date', 'end_date', 'disclaimer', 'order_url', 'is_valid', 'share_url', 'share_data', 'mezzo_provider', 'event', 'offer', 'book_link', 'is_book_form_web_view', 'start_time', 'restaurant_list', 'offer_text', 'custom_rating_text_background', 'is_active', 'applicable_on', 'voucher_id', 'should_show', 'opentable_support', 'display_time', 'end_time', 'book_again_url', 'friendly_timing_str'}\n"
     ]
    }
   ],
   "source": [
    "# Function to retrieve all keys from each restaurant\n",
    "def get_all_keys(dic):\n",
    "    keys = set(dic.keys())\n",
    "    for value in dic.values():\n",
    "        if isinstance(value, dict):\n",
    "            keys.update(get_all_keys(value))\n",
    "        elif isinstance(value, list):\n",
    "            for item in value:\n",
    "                if isinstance(item, dict):\n",
    "                    keys.update(get_all_keys(item))\n",
    "    return keys\n",
    "\n",
    "common_keys = set()\n",
    "add_keys = set()\n",
    "\n",
    "# Check which keys are common for each restaurant and which are additional keys\n",
    "for rest_list in rest_df[\"restaurants\"]:\n",
    "    for rest in rest_list:\n",
    "        rest_keys = set(get_all_keys(rest))\n",
    "\n",
    "        if not common_keys:\n",
    "            common_keys = rest_keys\n",
    "        else:\n",
    "            common_keys = common_keys.intersection(rest_keys)\n",
    "\n",
    "        add_keys = add_keys.union(rest_keys)\n",
    "\n",
    "add_keys -= common_keys\n",
    "\n",
    "print(\"Common Keys:\")\n",
    "print(common_keys)\n",
    "print(\"\\nAdditional Keys:\")\n",
    "print(add_keys)"
   ]
  },
  {
   "cell_type": "markdown",
   "metadata": {},
   "source": [
    "**Q1.** Extract the following fields and store the data as restaurants.csv. <br>\n",
    "◦   \tRestaurant Id<br>\n",
    "◦   \tRestaurant Name<br>\n",
    "◦   \tCountry<br>\n",
    "◦   \tCity<br>\n",
    "◦   \tUser Rating Votes<br>\n",
    "◦   \tUser Aggregate Rating (in float)<br>\n",
    "◦   \tCuisines<br>\n"
   ]
  },
  {
   "cell_type": "code",
   "execution_count": 59,
   "metadata": {},
   "outputs": [
    {
     "name": "stdout",
     "output_type": "stream",
     "text": [
      "Number of Restaurants per row: 20\n",
      "Restaurant example: ['R', 'apikey', 'id', 'name', 'url', 'location', 'switch_to_order_menu', 'cuisines', 'average_cost_for_two', 'price_range', 'currency', 'offers', 'opentable_support', 'is_zomato_book_res', 'mezzo_provider', 'is_book_form_web_view', 'book_form_web_view_url', 'book_again_url', 'thumb', 'user_rating', 'photos_url', 'menu_url', 'featured_image', 'has_online_delivery', 'is_delivering_now', 'has_fake_reviews', 'include_bogo_offers', 'deeplink', 'is_table_reservation_supported', 'has_table_booking', 'events_url', 'establishment_types']\n"
     ]
    }
   ],
   "source": [
    "print(f\"Number of Restaurants per row: {len((rest_df.iloc[0]['restaurants']))}\")\n",
    "print(f\"Restaurant example: {list(rest_df['restaurants'][1][0]['restaurant'].keys())}\")\n",
    "\n",
    "result = []\n",
    "for rest_list in rest_df[\"restaurants\"]:\n",
    "    for rest in rest_list:\n",
    "        curr = rest['restaurant']\n",
    "        rest_id = curr['id']\n",
    "        name = curr[\"name\"]\n",
    "        country_id =  curr[\"location\"][\"country_id\"]\n",
    "        city = curr[\"location\"][\"city\"]\n",
    "        rating_votes = curr[\"user_rating\"][\"votes\"]\n",
    "        agg_user_rating = curr[\"user_rating\"][\"aggregate_rating\"]\n",
    "        cuisines = curr[\"cuisines\"]\n",
    "        temp = [rest_id, name, country_id, city, rating_votes, agg_user_rating, cuisines]\n",
    "        result.append(temp)\n",
    "\n",
    "result = pd.DataFrame(result, columns= ['Restaurant Id', \"Restaurant Name\", \"Country_id\", \n",
    "                                        \"City\", \"User Rating Votes\",\n",
    "                                        \"User Aggregate Rating\", \"Cuisines\"])\n",
    "\n"
   ]
  },
  {
   "cell_type": "code",
   "execution_count": 60,
   "metadata": {},
   "outputs": [],
   "source": [
    "# Merge restaurant_df to country_df using country code/id as the joining keys to obtain country name.\n",
    "result_df = pd.merge(result, country_df, how='left', left_on=\"Country_id\", right_on=\"Country Code\")\n",
    "result_df = result_df.drop(columns=[\"Country_id\", \"Country Code\"])\n",
    "result_df = result_df[['Restaurant Id', \"Restaurant Name\", \"Country\", \n",
    "                                        \"City\", \"User Rating Votes\",\n",
    "                                        \"User Aggregate Rating\", \"Cuisines\"]]\n",
    "\n",
    "result_df.to_csv(\"restaurants.csv\", index=False)   "
   ]
  },
  {
   "cell_type": "markdown",
   "metadata": {},
   "source": [
    "**Q2.** \tExtract the list of restaurants that have past event in the month of April 2019 and store the data as restaurant_events.csv. <br>\n",
    "◦   \tEvent Id <br>\n",
    "◦   \tRestaurant Id <br>\n",
    "◦   \tRestaurant Name <br>\n",
    "◦   \tPhoto URL <br>\n",
    "◦   \tEvent Title <br>\n",
    "◦   \tEvent Start Date <br>\n",
    "◦   \tEvent End Date <br>\n",
    "Note: Populate empty values with \"NA\". <br>\n"
   ]
  },
  {
   "cell_type": "code",
   "execution_count": 61,
   "metadata": {},
   "outputs": [],
   "source": [
    "result_2 = []\n",
    "\n",
    "april_start_date = datetime(2019, 4, 1)\n",
    "april_end_date = datetime(2019, 4, 30)\n",
    "\n",
    "for rest_list in rest_df[\"restaurants\"]:\n",
    "    for rest in rest_list:\n",
    "        curr = rest['restaurant']\n",
    "        rest_id = curr['id']\n",
    "        name = curr[\"name\"]\n",
    "        photo_url = curr[\"photos_url\"]\n",
    "\n",
    "        events = curr.get(\"zomato_events\", False)\n",
    "        if events:\n",
    "            for event in events:\n",
    "                event_det = event[\"event\"]\n",
    "                event_id = event_det[\"event_id\"]\n",
    "                event_title = event_det[\"title\"]\n",
    "                event_start_date = event_det[\"start_date\"]\n",
    "                event_end_date = event_det[\"end_date\"]\n",
    "\n",
    "                # convert start date and end date to datetime format\n",
    "                event_start_date_dt = datetime.strptime(event_start_date, \"%Y-%m-%d\")\n",
    "                event_end_date_dt = datetime.strptime(event_end_date, \"%Y-%m-%d\")\n",
    "                \n",
    "                # filter by ensuring April 2019 falls between start date and end date \n",
    "                if (event_start_date_dt <= april_end_date) and (april_start_date <= event_end_date_dt):\n",
    "                    temp = [event_id, rest_id, name, photo_url, event_title, event_start_date, event_end_date]\n",
    "                    result_2.append(temp)\n",
    "\n",
    "rest_event_df = pd.DataFrame(result_2, columns= [\"Event id\", 'Restaurant Id', \"Restaurant Name\", \"Photo URL\", \n",
    "                                        \"Event Title\", \"Event Start Date\",\n",
    "                                        \"Event End Date\"])\n",
    "\n",
    "rest_event_df.to_csv(\"restaurant_events.csv\", index = False)"
   ]
  },
  {
   "cell_type": "markdown",
   "metadata": {},
   "source": [
    "**Q3.** \tFrom the dataset (restaurant_data.json), determine the threshold for the different rating text based on aggregate rating. Return aggregates for the following ratings only: <br>\n",
    "◦   \tExcellent <br>\n",
    "◦   \tVery Good <br>\n",
    "◦   \tGood <br>\n",
    "◦   \tAverage <br>\n",
    "◦   \tPoor <br>\n"
   ]
  },
  {
   "cell_type": "code",
   "execution_count": 62,
   "metadata": {},
   "outputs": [
    {
     "name": "stdout",
     "output_type": "stream",
     "text": [
      "The 'Excellent' rating has a minimum and maximum rating threshold of [4.5, 4.9] respectively\n",
      "The 'Very Good' rating has a minimum and maximum rating threshold of [4.0, 4.4] respectively\n",
      "The 'Good' rating has a minimum and maximum rating threshold of [3.5, 3.9] respectively\n",
      "The 'Average' rating has a minimum and maximum rating threshold of [2.5, 3.4] respectively\n",
      "The 'Poor' rating has a minimum and maximum rating threshold of [2.2, 2.2] respectively\n"
     ]
    }
   ],
   "source": [
    "rating = {}\n",
    "selected_rate = [\"Excellent\", \"Very Good\", \"Good\", 'Average', \"Poor\"]\n",
    "\n",
    "for rest_list in rest_df[\"restaurants\"]:\n",
    "    for rest in rest_list:\n",
    "        user_rating = rest['restaurant'][\"user_rating\"]\n",
    "        aggre_rating = float(user_rating['aggregate_rating'])\n",
    "        rate_text = user_rating[\"rating_text\"]\n",
    "\n",
    "        if rate_text in rating:\n",
    "            rating[rate_text] = [min(aggre_rating, rating[rate_text][0]), max(aggre_rating, rating[rate_text][1])]\n",
    "        else:\n",
    "            rating[rate_text] = [aggre_rating, aggre_rating]\n",
    "\n",
    "rating = list(rating.items())\n",
    "\n",
    "filtered_rating = list(filter(lambda x: x[0] in selected_rate, rating))\n",
    "sorted_rating = sorted(filtered_rating, key = lambda x: x[1][1], reverse=True)\n",
    "\n",
    "for word, spread in sorted_rating:\n",
    "    print(f\"The '{word}' rating has a minimum and maximum rating threshold of {spread} respectively\")\n"
   ]
  },
  {
   "cell_type": "markdown",
   "metadata": {},
   "source": [
    "Based on the given data, <br>\n",
    "The 'Excellent' rating has a minimum and maximum rating threshold of [4.5, 4.9] respectively. <br>\n",
    "The 'Very Good' rating has a minimum and maximum rating threshold of [4.0, 4.4] respectively. <br>\n",
    "The 'Good' rating has a minimum and maximum rating threshold of [3.5, 3.9] respectively. <br>\n",
    "The 'Average' rating has a minimum and maximum rating threshold of [2.5, 3.4] respectively. <br>\n",
    "The 'Poor' rating has a minimum and maximum rating threshold of [2.2, 2.2] respectively. <br>\n",
    "\n",
    "However, based on the rating threshold patterns, we can assume that the \"Poor\" rating has a maximum threshold of 2.4"
   ]
  },
  {
   "cell_type": "markdown",
   "metadata": {},
   "source": [
    "```Simple Test```"
   ]
  },
  {
   "cell_type": "code",
   "execution_count": 63,
   "metadata": {},
   "outputs": [
    {
     "name": "stdout",
     "output_type": "stream",
     "text": [
      "All restaurant data successfully transferred\n"
     ]
    }
   ],
   "source": [
    "### Check if the restaurant data from restaurant.json file tallies with the restaurant.csv file\n",
    "\n",
    "csv_data = pd.read_csv('restaurants.csv')\n",
    "\n",
    "if len(csv_data) == sum(rest_df.results_shown):\n",
    "    print(\"All restaurant data successfully transferred\")\n",
    "else:\n",
    "    print(\"Oh no. Restaurant counts do not tally\")"
   ]
  }
 ],
 "metadata": {
  "kernelspec": {
   "display_name": "Python 3",
   "language": "python",
   "name": "python3"
  },
  "language_info": {
   "codemirror_mode": {
    "name": "ipython",
    "version": 3
   },
   "file_extension": ".py",
   "mimetype": "text/x-python",
   "name": "python",
   "nbconvert_exporter": "python",
   "pygments_lexer": "ipython3",
   "version": "3.11.2"
  }
 },
 "nbformat": 4,
 "nbformat_minor": 2
}
