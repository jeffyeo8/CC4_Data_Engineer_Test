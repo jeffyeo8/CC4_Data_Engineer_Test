{
 "cells": [
  {
   "cell_type": "code",
   "execution_count": 30,
   "metadata": {},
   "outputs": [],
   "source": [
    "import pandas as pd\n",
    "import json"
   ]
  },
  {
   "cell_type": "code",
   "execution_count": 31,
   "metadata": {},
   "outputs": [
    {
     "name": "stdout",
     "output_type": "stream",
     "text": [
      "<class 'pandas.core.frame.DataFrame'>\n",
      "RangeIndex: 1955 entries, 0 to 1954\n",
      "Data columns (total 3 columns):\n",
      " #   Column           Non-Null Count  Dtype \n",
      "---  ------           --------------  ----- \n",
      " 0   carpark_info     1955 non-null   object\n",
      " 1   carpark_number   1955 non-null   object\n",
      " 2   update_datetime  1955 non-null   object\n",
      "dtypes: object(3)\n",
      "memory usage: 45.9+ KB\n",
      "None\n"
     ]
    },
    {
     "data": {
      "text/plain": [
       "carpark_info       [{'total_lots': '105', 'lot_type': 'C', 'lots_...\n",
       "carpark_number                                                  HE12\n",
       "update_datetime                                  2024-02-18T01:30:01\n",
       "Name: 0, dtype: object"
      ]
     },
     "execution_count": 31,
     "metadata": {},
     "output_type": "execute_result"
    }
   ],
   "source": [
    "# Open file and convert to dataframe (df)\n",
    "with open('carpark-availability.json', encoding=\"utf8\") as cp_file:\n",
    "    cp_data = json.load(cp_file)\n",
    "\n",
    "cp_df = pd.DataFrame(cp_data[\"items\"][0][\"carpark_data\"])\n",
    "\n",
    "print(cp_df.info())\n",
    "# cp_df.to_csv(r\"C:\\Users\\USER\\Downloads/all_cp.csv\", index=False)\n",
    "\n",
    "cp_df.iloc[0]\n"
   ]
  },
  {
   "cell_type": "code",
   "execution_count": 32,
   "metadata": {},
   "outputs": [
    {
     "name": "stdout",
     "output_type": "stream",
     "text": [
      "<class 'pandas.core.frame.DataFrame'>\n",
      "RangeIndex: 2200 entries, 0 to 2199\n",
      "Data columns (total 12 columns):\n",
      " #   Column                  Non-Null Count  Dtype  \n",
      "---  ------                  --------------  -----  \n",
      " 0   car_park_no             2200 non-null   object \n",
      " 1   address                 2200 non-null   object \n",
      " 2   x_coord                 2200 non-null   float64\n",
      " 3   y_coord                 2200 non-null   float64\n",
      " 4   car_park_type           2200 non-null   object \n",
      " 5   type_of_parking_system  2200 non-null   object \n",
      " 6   short_term_parking      2200 non-null   object \n",
      " 7   free_parking            2200 non-null   object \n",
      " 8   night_parking           2200 non-null   object \n",
      " 9   car_park_decks          2200 non-null   int64  \n",
      " 10  gantry_height           2200 non-null   float64\n",
      " 11  car_park_basement       2200 non-null   object \n",
      "dtypes: float64(3), int64(1), object(8)\n",
      "memory usage: 206.4+ KB\n",
      "None\n",
      "  car_park_no                                        address     x_coord  \\\n",
      "0         ACB    BLK 270/271 ALBERT CENTRE BASEMENT CAR PARK  30314.7936   \n",
      "1         ACM                      BLK 98A ALJUNIED CRESCENT  33758.4143   \n",
      "2         AH1                            BLK 101 JALAN DUSUN  29257.7203   \n",
      "3        AK19                 BLOCK 253 ANG MO KIO STREET 21  28185.4359   \n",
      "4        AK31               BLK 302/348 ANG MO KIO STREET 31  29482.0290   \n",
      "5        AK52                   BLK 513 ANG MO KIO STREET 53  29889.3457   \n",
      "6         AK6                    BLK 728 ANG MO KIO AVENUE 6  29283.7324   \n",
      "7        AK83  BLK 5022 TO 5095 ANG MO KIO INDUSTRIAL PARK 2  31397.2241   \n",
      "8         AK9                            ANG MO KIO AVENUE 9  29674.8184   \n",
      "9        AM14                   BLK 227 ANG MO KIO STREET 23  28777.0707   \n",
      "\n",
      "      y_coord          car_park_type type_of_parking_system  \\\n",
      "0  31490.4942      BASEMENT CAR PARK     ELECTRONIC PARKING   \n",
      "1  33695.5198  MULTI-STOREY CAR PARK     ELECTRONIC PARKING   \n",
      "2  34500.3599       SURFACE CAR PARK     ELECTRONIC PARKING   \n",
      "3  39012.6664       SURFACE CAR PARK         COUPON PARKING   \n",
      "4  38684.1754       SURFACE CAR PARK         COUPON PARKING   \n",
      "5  39382.8134       SURFACE CAR PARK         COUPON PARKING   \n",
      "6  39647.8906       SURFACE CAR PARK         COUPON PARKING   \n",
      "7  39851.6191       SURFACE CAR PARK         COUPON PARKING   \n",
      "8  40616.8750       SURFACE CAR PARK         COUPON PARKING   \n",
      "9  38973.9528  MULTI-STOREY CAR PARK     ELECTRONIC PARKING   \n",
      "\n",
      "  short_term_parking             free_parking night_parking  car_park_decks  \\\n",
      "0          WHOLE DAY                       NO           YES               1   \n",
      "1          WHOLE DAY  SUN & PH FR 7AM-10.30PM           YES               5   \n",
      "2          WHOLE DAY  SUN & PH FR 7AM-10.30PM           YES               0   \n",
      "3            7AM-7PM                       NO            NO               0   \n",
      "4                 NO                       NO            NO               0   \n",
      "5          WHOLE DAY                       NO           YES               0   \n",
      "6        7AM-10.30PM  SUN & PH FR 7AM-10.30PM            NO               0   \n",
      "7                 NO                       NO            NO               0   \n",
      "8                 NO                       NO            NO               0   \n",
      "9          WHOLE DAY                       NO           YES               6   \n",
      "\n",
      "   gantry_height car_park_basement  \n",
      "0           1.80                 Y  \n",
      "1           2.10                 N  \n",
      "2           0.00                 N  \n",
      "3           0.00                 N  \n",
      "4           0.00                 N  \n",
      "5           0.00                 N  \n",
      "6           0.00                 N  \n",
      "7           0.00                 N  \n",
      "8           0.00                 N  \n",
      "9           2.15                 N  \n"
     ]
    },
    {
     "data": {
      "text/plain": [
       "Index(['car_park_no', 'address', 'x_coord', 'y_coord', 'car_park_type',\n",
       "       'type_of_parking_system', 'short_term_parking', 'free_parking',\n",
       "       'night_parking', 'car_park_decks', 'gantry_height',\n",
       "       'car_park_basement'],\n",
       "      dtype='object')"
      ]
     },
     "execution_count": 32,
     "metadata": {},
     "output_type": "execute_result"
    }
   ],
   "source": [
    "HDB_cp_df = pd.read_csv(\"HDBCarparkInformation.csv\")\n",
    "print(HDB_cp_df.info())\n",
    "print(HDB_cp_df.head(10))\n",
    "HDB_cp_df.columns"
   ]
  }
 ],
 "metadata": {
  "kernelspec": {
   "display_name": "Python 3",
   "language": "python",
   "name": "python3"
  },
  "language_info": {
   "codemirror_mode": {
    "name": "ipython",
    "version": 3
   },
   "file_extension": ".py",
   "mimetype": "text/x-python",
   "name": "python",
   "nbconvert_exporter": "python",
   "pygments_lexer": "ipython3",
   "version": "3.11.2"
  }
 },
 "nbformat": 4,
 "nbformat_minor": 2
}
